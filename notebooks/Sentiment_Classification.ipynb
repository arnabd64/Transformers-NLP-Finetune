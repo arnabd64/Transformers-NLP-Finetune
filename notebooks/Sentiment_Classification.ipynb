{
  "cells": [
    {
      "cell_type": "markdown",
      "metadata": {
        "id": "view-in-github",
        "colab_type": "text"
      },
      "source": [
        "<a href=\"https://colab.research.google.com/github/arnabd64/Transformers-NLP-Finetune/blob/main/notebooks/Sentiment_Classification.ipynb\" target=\"_parent\"><img src=\"https://colab.research.google.com/assets/colab-badge.svg\" alt=\"Open In Colab\"/></a>"
      ]
    },
    {
      "cell_type": "markdown",
      "source": [
        "# Sentiment Classification\n",
        "\n",
        "__Sentiment Classification__ is the task of classifying a text into either `positive`, `negative` or `neutral`. We shall be using the `AutoModelForSequenceClassification` class provided by the [Transformers](https://github.com/huggingface/transformers) library.\n",
        "\n",
        "## Dataset\n",
        "\n",
        "The dataset is hosted on Huggingface with repository ID: [mteb/amazon_polarity](https://huggingface.co/datasets/mteb/amazon_polarity). The dataset contains a total of 4 million amazon reviews which are labeled into two classes `positive` and `negative`.\n",
        "\n",
        "## Base Model\n",
        "\n",
        "We will be using `bert-tiny` model hosted on the [prajjwal1/bert-tiny](https://huggingface.co/prajjwal1/bert-tiny). It is a very small version of the BERT model. The model is only 17.8MB in size which makes it quite easy to finetune on a free Google Colab GPU."
      ],
      "metadata": {
        "id": "5uZI3ZY5etud"
      }
    },
    {
      "cell_type": "markdown",
      "source": [
        "# Install Libraries"
      ],
      "metadata": {
        "id": "9nXYdorKhYQd"
      }
    },
    {
      "cell_type": "code",
      "source": [
        "! pip install --progress-bar=off \\\n",
        "    transformers[torch] \\\n",
        "    datasets \\\n",
        "    evaulate \\\n",
        "> install.log"
      ],
      "metadata": {
        "id": "nAGYIR9fhbdk"
      },
      "execution_count": null,
      "outputs": []
    },
    {
      "cell_type": "markdown",
      "source": [
        "# Login to Huggingface"
      ],
      "metadata": {
        "id": "xG-93gUPhvR3"
      }
    },
    {
      "cell_type": "code",
      "source": [
        "HUGGINGFACE_TOKEN = \"Paste your Huggingface Token\"\n",
        "\n",
        "import huggingface_hub\n",
        "huggingface_hub.login(HUGGINGFACE_TOKEN)"
      ],
      "metadata": {
        "id": "Pvsr-8SwhzKs"
      },
      "execution_count": null,
      "outputs": []
    },
    {
      "cell_type": "markdown",
      "source": [
        "# Label Map"
      ],
      "metadata": {
        "id": "B2H6p6nIin84"
      }
    },
    {
      "cell_type": "code",
      "source": [
        "LABELS = [\"negative\", \"positive\"]\n",
        "LABEL2ID = {id:label for id, label in enumerate(LABELS)}\n",
        "ID2LABEL = {id:label for id, label in enumerate(LABELS)}"
      ],
      "metadata": {
        "id": "Ue_Pb7-limxe"
      },
      "execution_count": null,
      "outputs": []
    },
    {
      "cell_type": "markdown",
      "source": [
        "# Encode the Labels\n",
        "\n",
        "The label encoding for a huggingface dataset is done in a different way when compares to `pandas` or `scikit-learn`."
      ],
      "metadata": {
        "id": "6Lbda6_5jG3j"
      }
    },
    {
      "cell_type": "code",
      "source": [
        "features = datasets.Features({\n",
        "    \"text\": datasets.Vaklue(\"string\"),\n",
        "    \"label_text\": datasets.ClassLabel(num_classes=len(LABELS), names=LABELS)\n",
        "})"
      ],
      "metadata": {
        "id": "L1DVeS3tjs8S"
      },
      "execution_count": null,
      "outputs": []
    },
    {
      "cell_type": "markdown",
      "source": [
        "# Load the Dataset"
      ],
      "metadata": {
        "id": "8fbywscCkN5P"
      }
    },
    {
      "cell_type": "code",
      "source": [
        "dataset = (\n",
        "    datasets.load_dataset(\"mteb/amazon-polarity\")\n",
        "    .remove_columns(['label'])\n",
        "    .cast(features)\n",
        ")"
      ],
      "metadata": {
        "id": "8OqBfHd7kP1o"
      },
      "execution_count": null,
      "outputs": []
    },
    {
      "cell_type": "markdown",
      "source": [
        "# Load Tokenizer & Model"
      ],
      "metadata": {
        "id": "zcrGodN2kgBw"
      }
    },
    {
      "cell_type": "code",
      "source": [
        "from transformers import AutoTokenizer, AutoModelForSequenceClassification"
      ],
      "metadata": {
        "id": "JyVYB0Ueko2I"
      },
      "execution_count": null,
      "outputs": []
    },
    {
      "cell_type": "code",
      "source": [
        "BASE_MODEL = \"prajjwal1/bert-tiny\"\n",
        "tokenizer = AutoTokenizer.from_pretrained(BASE_MODEL)\n",
        "model = AutoModelForSequenceClassification.from_pretrained(MODEL, num_labels=len(LABELS), id2label=ID2LABEL, label2id=LABEL2ID)"
      ],
      "metadata": {
        "id": "A2wigwgMkiMd"
      },
      "execution_count": null,
      "outputs": []
    },
    {
      "cell_type": "markdown",
      "source": [
        "# Tokenize the Dataset"
      ],
      "metadata": {
        "id": "lnyk5JJjk3tK"
      }
    },
    {
      "cell_type": "code",
      "execution_count": null,
      "metadata": {
        "colab": {
          "background_save": true
        },
        "id": "q5du52ZCaiv3"
      },
      "outputs": [],
      "source": [
        "def tokenize(batch):\n",
        "    return tokenizer(\n",
        "        batch['text'],\n",
        "        truncation = True,\n",
        "        padding = 'max_length',\n",
        "        max_length = 64,\n",
        "        return_tensors = \"pt\"\n",
        "    )\n",
        "\n",
        "\n",
        "dataset = dataset.map(tokenize, batched=True)"
      ]
    },
    {
      "cell_type": "markdown",
      "source": [
        "# Evaluation Metrics"
      ],
      "metadata": {
        "id": "brVlJ0VtlL2k"
      }
    },
    {
      "cell_type": "code",
      "execution_count": null,
      "metadata": {
        "id": "NDUdXs2KfNmt"
      },
      "outputs": [],
      "source": [
        "import evaluate\n",
        "import numpy as np\n",
        "\n",
        "accuracy = evaluate.load(\"accuracy\")\n",
        "cola = evaluate.load(\"glue\", \"cola\")\n",
        "\n",
        "def compute_metrics(p):\n",
        "    predictions, labels = p\n",
        "    predictions = np.argmax(predictions, axis=1)\n",
        "\n",
        "    accuracy_metric = accuracy.compute(predictions=predictions, references=labels)\n",
        "    cola_metric = cola.compute(predictions=predictions, references=labels)\n",
        "\n",
        "    return {\"accuracy\": accuracy_metric[\"accuracy\"], \"matthews_correlation\": cola_metric[\"matthews_correlation\"]}"
      ]
    },
    {
      "cell_type": "markdown",
      "source": [
        "# Training Hyperparameters"
      ],
      "metadata": {
        "id": "jUS-LT9_lggi"
      }
    },
    {
      "cell_type": "code",
      "source": [
        "from transformers import TrainingArguments"
      ],
      "metadata": {
        "id": "Oq2Z99B2ll_a"
      },
      "execution_count": null,
      "outputs": []
    },
    {
      "cell_type": "code",
      "execution_count": null,
      "metadata": {
        "id": "433phP94ic8F"
      },
      "outputs": [],
      "source": [
        "args = TrainingArguments(\n",
        "    # Model Saving\n",
        "    output_dir = \"bert-tiny-amazon\",\n",
        "    save_safetensors = True,\n",
        "    save_strategy = \"steps\",\n",
        "    save_steps = 10_000,\n",
        "\n",
        "    # Model Evaulation\n",
        "    evaluation_strategy = \"steps\",\n",
        "    eval_steps = 10_000,\n",
        "    report_to = ['tensorboard'],\n",
        "    load_best_model_at_end = True,\n",
        "    metric_for_best_model = \"matthews_correlation\",\n",
        "\n",
        "    # Optimzation\n",
        "    max_steps = 1_000_000,\n",
        "    per_device_train_batch_size = 64,\n",
        "    per_device_eval_batch_size = 320,\n",
        "    learning_rate = 5e-5,\n",
        "    weight_decay = 5e-9,\n",
        "    warmup_ratio = 0.1,\n",
        "    lr_scheduler_type = 'cosine',\n",
        ")"
      ]
    },
    {
      "cell_type": "markdown",
      "source": [
        "# Initiate Trainer"
      ],
      "metadata": {
        "id": "8OhVnnXfwfvk"
      }
    },
    {
      "cell_type": "code",
      "source": [
        "trainer = Trainer(\n",
        "    model = model,\n",
        "    args = args,\n",
        "    tokenizer = tokenizer,\n",
        "    train_dataset = dataset['train'],\n",
        "    eval_dataset = dataset['test'],\n",
        "    compute_metrics = compute_metrics\n",
        ")"
      ],
      "metadata": {
        "id": "Cl-P2KeBwiw-"
      },
      "execution_count": null,
      "outputs": []
    },
    {
      "cell_type": "markdown",
      "source": [
        "# Train the Model"
      ],
      "metadata": {
        "id": "Xk6bKpkpwxi9"
      }
    },
    {
      "cell_type": "code",
      "source": [
        "output= trainer.train()"
      ],
      "metadata": {
        "id": "wr7InrJRw0Mt"
      },
      "execution_count": null,
      "outputs": []
    },
    {
      "cell_type": "markdown",
      "source": [
        "# Upload Model to Huggingface"
      ],
      "metadata": {
        "id": "W-8D7l8mwfr2"
      }
    },
    {
      "cell_type": "code",
      "source": [
        "trainer.push_to_hub()"
      ],
      "metadata": {
        "id": "c9Uj0srDw9Mv"
      },
      "execution_count": null,
      "outputs": []
    }
  ],
  "metadata": {
    "accelerator": "GPU",
    "colab": {
      "provenance": [],
      "authorship_tag": "ABX9TyPtef66w7ywz+QTFIDObQTo",
      "include_colab_link": true
    },
    "kernelspec": {
      "display_name": "Python 3",
      "name": "python3"
    },
    "language_info": {
      "name": "python"
    }
  },
  "nbformat": 4,
  "nbformat_minor": 0
}